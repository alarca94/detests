{
 "cells": [
  {
   "cell_type": "code",
   "execution_count": 1,
   "metadata": {
    "collapsed": true
   },
   "outputs": [],
   "source": [
    "import os\n",
    "\n",
    "import pandas as pd\n",
    "\n",
    "from sklearn.dummy import DummyClassifier\n",
    "from utils import save_submission"
   ]
  },
  {
   "cell_type": "code",
   "execution_count": 2,
   "outputs": [
    {
     "name": "stdout",
     "output_type": "stream",
     "text": [
      "\n",
      "\n",
      "TRAIN INFO:\n",
      "\n",
      "<class 'pandas.core.frame.DataFrame'>\n",
      "RangeIndex: 3817 entries, 0 to 3816\n",
      "Data columns (total 18 columns):\n",
      " #   Column          Non-Null Count  Dtype \n",
      "---  ------          --------------  ----- \n",
      " 0   comment_id      3817 non-null   int64 \n",
      " 1   sentence_pos    3817 non-null   int64 \n",
      " 2   reply_to        3817 non-null   int64 \n",
      " 3   sentence        3817 non-null   object\n",
      " 4   racial_target   3817 non-null   int64 \n",
      " 5   other_target    3817 non-null   int64 \n",
      " 6   implicit        3817 non-null   int64 \n",
      " 7   stereotype      3817 non-null   int64 \n",
      " 8   xenophobia      3817 non-null   int64 \n",
      " 9   suffering       3817 non-null   int64 \n",
      " 10  economic        3817 non-null   int64 \n",
      " 11  migration       3817 non-null   int64 \n",
      " 12  culture         3817 non-null   int64 \n",
      " 13  benefits        3817 non-null   int64 \n",
      " 14  health          3817 non-null   int64 \n",
      " 15  security        3817 non-null   int64 \n",
      " 16  dehumanisation  3817 non-null   int64 \n",
      " 17  others          3817 non-null   int64 \n",
      "dtypes: int64(17), object(1)\n",
      "memory usage: 536.9+ KB\n",
      "\n",
      "\n",
      "TEST INFO:\n",
      "\n",
      "<class 'pandas.core.frame.DataFrame'>\n",
      "RangeIndex: 1812 entries, 0 to 1811\n",
      "Data columns (total 4 columns):\n",
      " #   Column        Non-Null Count  Dtype \n",
      "---  ------        --------------  ----- \n",
      " 0   comment_id    1812 non-null   int64 \n",
      " 1   sentence_pos  1812 non-null   int64 \n",
      " 2   reply_to      1812 non-null   int64 \n",
      " 3   sentence      1812 non-null   object\n",
      "dtypes: int64(3), object(1)\n",
      "memory usage: 56.8+ KB\n"
     ]
    }
   ],
   "source": [
    "DATA_PATH = './data'\n",
    "train_file = 'train.csv'\n",
    "test_file = 'test.csv'\n",
    "\n",
    "trn = pd.read_csv(os.path.join(DATA_PATH, train_file))\n",
    "tst = pd.read_csv(os.path.join(DATA_PATH, test_file))\n",
    "\n",
    "print(f'\\n\\nTRAIN INFO:\\n')\n",
    "trn.info()\n",
    "print(f'\\n\\nTEST INFO:\\n')\n",
    "tst.info()"
   ],
   "metadata": {
    "collapsed": false,
    "pycharm": {
     "name": "#%%\n"
    }
   }
  },
  {
   "cell_type": "markdown",
   "source": [
    "## TASK 1: Stereotype detection (binary classification)"
   ],
   "metadata": {
    "collapsed": false
   }
  },
  {
   "cell_type": "code",
   "execution_count": 3,
   "outputs": [
    {
     "name": "stderr",
     "output_type": "stream",
     "text": [
      "<ipython-input-3-c48e924d1d9c>:7: SettingWithCopyWarning: \n",
      "A value is trying to be set on a copy of a slice from a DataFrame.\n",
      "Try using .loc[row_indexer,col_indexer] = value instead\n",
      "\n",
      "See the caveats in the documentation: https://pandas.pydata.org/pandas-docs/stable/user_guide/indexing.html#returning-a-view-versus-a-copy\n",
      "  results[target_col] = cls.predict(tst[feat_cols]).tolist()\n"
     ]
    }
   ],
   "source": [
    "target_col = 'stereotype'\n",
    "feat_cols = 'sentence'\n",
    "results = tst[['comment_id', 'sentence_pos']]\n",
    "\n",
    "cls = DummyClassifier(strategy='stratified')\n",
    "cls.fit(trn[feat_cols].values, trn[target_col].values)\n",
    "results[target_col] = cls.predict(tst[feat_cols]).tolist()\n",
    "\n",
    "save_submission(results_df=results,\n",
    "                team_name='example-team',\n",
    "                task_number=1,\n",
    "                results_path='./results/',\n",
    "                attempt=2)"
   ],
   "metadata": {
    "collapsed": false,
    "pycharm": {
     "name": "#%%\n"
    }
   }
  },
  {
   "cell_type": "markdown",
   "source": [
    "## TASK 2: Stereotype hierarchical classification (binary + multi-label classification)"
   ],
   "metadata": {
    "collapsed": false,
    "pycharm": {
     "name": "#%% md\n"
    }
   }
  },
  {
   "cell_type": "code",
   "execution_count": 4,
   "outputs": [
    {
     "name": "stderr",
     "output_type": "stream",
     "text": [
      "<ipython-input-4-bbe201753663>:9: SettingWithCopyWarning: \n",
      "A value is trying to be set on a copy of a slice from a DataFrame.\n",
      "Try using .loc[row_indexer,col_indexer] = value instead\n",
      "\n",
      "See the caveats in the documentation: https://pandas.pydata.org/pandas-docs/stable/user_guide/indexing.html#returning-a-view-versus-a-copy\n",
      "  results[t1_target_col] = cls.predict(tst[feat_cols]).tolist()\n"
     ]
    }
   ],
   "source": [
    "t1_target_col = 'stereotype'\n",
    "t2_target_cols = ['xenophobia', 'suffering', 'economic', 'migration', 'culture',\n",
    "                  'benefits', 'health', 'security', 'dehumanisation', 'others']\n",
    "feat_cols = 'sentence'\n",
    "results = tst[['comment_id', 'sentence_pos']]\n",
    "\n",
    "cls = DummyClassifier(strategy='stratified')\n",
    "cls.fit(trn[feat_cols].values, trn[t1_target_col].values)\n",
    "results[t1_target_col] = cls.predict(tst[feat_cols]).tolist()\n",
    "\n",
    "t2_trn = trn[trn[t1_target_col] == 1]\n",
    "tst_mask = results[t1_target_col].astype(bool)\n",
    "t2_tst = tst[tst_mask]\n",
    "for c in t2_target_cols:\n",
    "    results[c] = 0\n",
    "    cls = DummyClassifier(strategy='stratified')\n",
    "    cls.fit(t2_trn[feat_cols].values, t2_trn[c].values)\n",
    "    results.loc[tst_mask, c] = cls.predict(t2_tst[feat_cols]).tolist()\n",
    "\n",
    "save_submission(results_df=results,\n",
    "                team_name='example-team',\n",
    "                task_number=2,\n",
    "                results_path='./results/',\n",
    "                attempt=2)"
   ],
   "metadata": {
    "collapsed": false,
    "pycharm": {
     "name": "#%%\n"
    }
   }
  },
  {
   "cell_type": "code",
   "execution_count": 4,
   "outputs": [],
   "source": [],
   "metadata": {
    "collapsed": false,
    "pycharm": {
     "name": "#%%\n"
    }
   }
  }
 ],
 "metadata": {
  "kernelspec": {
   "display_name": "Python 3",
   "language": "python",
   "name": "python3"
  },
  "language_info": {
   "codemirror_mode": {
    "name": "ipython",
    "version": 2
   },
   "file_extension": ".py",
   "mimetype": "text/x-python",
   "name": "python",
   "nbconvert_exporter": "python",
   "pygments_lexer": "ipython2",
   "version": "2.7.6"
  }
 },
 "nbformat": 4,
 "nbformat_minor": 0
}