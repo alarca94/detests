{
 "cells": [
  {
   "cell_type": "code",
   "execution_count": 1,
   "metadata": {
    "collapsed": true
   },
   "outputs": [],
   "source": [
    "import os\n",
    "\n",
    "import pandas as pd\n",
    "\n",
    "from sklearn.dummy import DummyClassifier\n",
    "from evaluation import Evaluator\n",
    "from utils import save_submission"
   ]
  },
  {
   "cell_type": "code",
   "execution_count": 2,
   "outputs": [
    {
     "name": "stdout",
     "output_type": "stream",
     "text": [
      "\n",
      "\n",
      "TRAIN INFO:\n",
      "\n",
      "<class 'pandas.core.frame.DataFrame'>\n",
      "RangeIndex: 3817 entries, 0 to 3816\n",
      "Data columns (total 18 columns):\n",
      " #   Column          Non-Null Count  Dtype \n",
      "---  ------          --------------  ----- \n",
      " 0   comment_id      3817 non-null   int64 \n",
      " 1   sentence_pos    3817 non-null   int64 \n",
      " 2   reply_to        3817 non-null   int64 \n",
      " 3   sentence        3817 non-null   object\n",
      " 4   racial_target   3817 non-null   int64 \n",
      " 5   other_target    3817 non-null   int64 \n",
      " 6   implicit        3817 non-null   int64 \n",
      " 7   stereotype      3817 non-null   int64 \n",
      " 8   xenophobia      3817 non-null   int64 \n",
      " 9   suffering       3817 non-null   int64 \n",
      " 10  economic        3817 non-null   int64 \n",
      " 11  migration       3817 non-null   int64 \n",
      " 12  culture         3817 non-null   int64 \n",
      " 13  benefits        3817 non-null   int64 \n",
      " 14  health          3817 non-null   int64 \n",
      " 15  security        3817 non-null   int64 \n",
      " 16  dehumanisation  3817 non-null   int64 \n",
      " 17  others          3817 non-null   int64 \n",
      "dtypes: int64(17), object(1)\n",
      "memory usage: 536.9+ KB\n",
      "\n",
      "\n",
      "TEST INFO:\n",
      "\n",
      "<class 'pandas.core.frame.DataFrame'>\n",
      "RangeIndex: 1812 entries, 0 to 1811\n",
      "Data columns (total 4 columns):\n",
      " #   Column        Non-Null Count  Dtype \n",
      "---  ------        --------------  ----- \n",
      " 0   comment_id    1812 non-null   int64 \n",
      " 1   sentence_pos  1812 non-null   int64 \n",
      " 2   reply_to      1812 non-null   int64 \n",
      " 3   sentence      1812 non-null   object\n",
      "dtypes: int64(3), object(1)\n",
      "memory usage: 56.8+ KB\n"
     ]
    }
   ],
   "source": [
    "DATA_PATH = './data'\n",
    "train_file = 'train.csv'\n",
    "test_file = 'test.csv'\n",
    "\n",
    "trn = pd.read_csv(os.path.join(DATA_PATH, train_file))\n",
    "tst = pd.read_csv(os.path.join(DATA_PATH, test_file))\n",
    "\n",
    "print(f'\\n\\nTRAIN INFO:\\n')\n",
    "trn.info()\n",
    "print(f'\\n\\nTEST INFO:\\n')\n",
    "tst.info()"
   ],
   "metadata": {
    "collapsed": false,
    "pycharm": {
     "name": "#%%\n"
    }
   }
  },
  {
   "cell_type": "markdown",
   "source": [
    "## TASK 1: Stereotype detection (binary classification)"
   ],
   "metadata": {
    "collapsed": false
   }
  },
  {
   "cell_type": "code",
   "execution_count": 3,
   "outputs": [
    {
     "name": "stderr",
     "output_type": "stream",
     "text": [
      "<ipython-input-3-2eec8d0a99b1>:8: SettingWithCopyWarning: \n",
      "A value is trying to be set on a copy of a slice from a DataFrame.\n",
      "Try using .loc[row_indexer,col_indexer] = value instead\n",
      "\n",
      "See the caveats in the documentation: https://pandas.pydata.org/pandas-docs/stable/user_guide/indexing.html#returning-a-view-versus-a-copy\n",
      "  results[target_col] = cls.predict(tst[feat_cols]).tolist()\n",
      "<ipython-input-3-2eec8d0a99b1>:16: SettingWithCopyWarning: \n",
      "A value is trying to be set on a copy of a slice from a DataFrame.\n",
      "Try using .loc[row_indexer,col_indexer] = value instead\n",
      "\n",
      "See the caveats in the documentation: https://pandas.pydata.org/pandas-docs/stable/user_guide/indexing.html#returning-a-view-versus-a-copy\n",
      "  trn_results[target_col] = cls.predict(trn[feat_cols]).tolist()\n"
     ]
    }
   ],
   "source": [
    "target_col = 'stereotype'\n",
    "feat_cols = 'sentence'\n",
    "results = tst[['comment_id', 'sentence_pos']]\n",
    "trn_results = trn[['comment_id', 'sentence_pos']]\n",
    "\n",
    "cls = DummyClassifier(strategy='stratified')\n",
    "cls.fit(trn[feat_cols].values, trn[target_col].values)\n",
    "results[target_col] = cls.predict(tst[feat_cols]).tolist()\n",
    "\n",
    "save_submission(results_df=results,\n",
    "                team_name='example-team',\n",
    "                task_number=1,\n",
    "                results_path='./results/',\n",
    "                attempt=2)\n",
    "\n",
    "trn_results[target_col] = cls.predict(trn[feat_cols]).tolist()\n",
    "save_submission(results_df=trn_results,\n",
    "                team_name='example-team',\n",
    "                task_number=1,\n",
    "                results_path='./results/',\n",
    "                attempt=-1)"
   ],
   "metadata": {
    "collapsed": false,
    "pycharm": {
     "name": "#%%\n"
    }
   }
  },
  {
   "cell_type": "markdown",
   "source": [
    "## TASK 2: Stereotype hierarchical classification (binary + multi-label classification)"
   ],
   "metadata": {
    "collapsed": false,
    "pycharm": {
     "name": "#%% md\n"
    }
   }
  },
  {
   "cell_type": "code",
   "execution_count": 4,
   "outputs": [
    {
     "name": "stderr",
     "output_type": "stream",
     "text": [
      "<ipython-input-4-17f1f86d365a>:10: SettingWithCopyWarning: \n",
      "A value is trying to be set on a copy of a slice from a DataFrame.\n",
      "Try using .loc[row_indexer,col_indexer] = value instead\n",
      "\n",
      "See the caveats in the documentation: https://pandas.pydata.org/pandas-docs/stable/user_guide/indexing.html#returning-a-view-versus-a-copy\n",
      "  results[t1_target_col] = cls.predict(tst[feat_cols]).tolist()\n",
      "<ipython-input-4-17f1f86d365a>:11: SettingWithCopyWarning: \n",
      "A value is trying to be set on a copy of a slice from a DataFrame.\n",
      "Try using .loc[row_indexer,col_indexer] = value instead\n",
      "\n",
      "See the caveats in the documentation: https://pandas.pydata.org/pandas-docs/stable/user_guide/indexing.html#returning-a-view-versus-a-copy\n",
      "  trn_results[t1_target_col] = cls.predict(trn[feat_cols]).tolist()\n",
      "<ipython-input-4-17f1f86d365a>:19: SettingWithCopyWarning: \n",
      "A value is trying to be set on a copy of a slice from a DataFrame.\n",
      "Try using .loc[row_indexer,col_indexer] = value instead\n",
      "\n",
      "See the caveats in the documentation: https://pandas.pydata.org/pandas-docs/stable/user_guide/indexing.html#returning-a-view-versus-a-copy\n",
      "  trn_results[c] = 0\n",
      "/usr/local/lib/python3.8/site-packages/pandas/core/indexing.py:670: SettingWithCopyWarning: \n",
      "A value is trying to be set on a copy of a slice from a DataFrame\n",
      "\n",
      "See the caveats in the documentation: https://pandas.pydata.org/pandas-docs/stable/user_guide/indexing.html#returning-a-view-versus-a-copy\n",
      "  iloc._setitem_with_indexer(indexer, value)\n",
      "<ipython-input-4-17f1f86d365a>:23: SettingWithCopyWarning: \n",
      "A value is trying to be set on a copy of a slice from a DataFrame\n",
      "\n",
      "See the caveats in the documentation: https://pandas.pydata.org/pandas-docs/stable/user_guide/indexing.html#returning-a-view-versus-a-copy\n",
      "  trn_results.loc[trn_mask, c] = cls.predict(trn[trn_mask][feat_cols]).tolist()\n"
     ]
    }
   ],
   "source": [
    "t1_target_col = 'stereotype'\n",
    "t2_target_cols = ['xenophobia', 'suffering', 'economic', 'migration', 'culture',\n",
    "                  'benefits', 'health', 'security', 'dehumanisation', 'others']\n",
    "feat_cols = 'sentence'\n",
    "results = tst[['comment_id', 'sentence_pos']]\n",
    "trn_results = trn[['comment_id', 'sentence_pos']]\n",
    "\n",
    "cls = DummyClassifier(strategy='stratified')\n",
    "cls.fit(trn[feat_cols].values, trn[t1_target_col].values)\n",
    "results[t1_target_col] = cls.predict(tst[feat_cols]).tolist()\n",
    "trn_results[t1_target_col] = cls.predict(trn[feat_cols]).tolist()\n",
    "\n",
    "t2_trn = trn[trn[t1_target_col] == 1]\n",
    "tst_mask = results[t1_target_col].astype(bool)\n",
    "trn_mask = trn_results[t1_target_col].astype(bool)\n",
    "t2_tst = tst[tst_mask]\n",
    "for c in t2_target_cols:\n",
    "    results[c] = 0\n",
    "    trn_results[c] = 0\n",
    "    cls = DummyClassifier(strategy='stratified')\n",
    "    cls.fit(t2_trn[feat_cols].values, t2_trn[c].values)\n",
    "    results.loc[tst_mask, c] = cls.predict(t2_tst[feat_cols]).tolist()\n",
    "    trn_results.loc[trn_mask, c] = cls.predict(trn[trn_mask][feat_cols]).tolist()\n",
    "\n",
    "save_submission(results_df=results,\n",
    "                team_name='example-team',\n",
    "                task_number=2,\n",
    "                results_path='./results/',\n",
    "                attempt=2)\n",
    "save_submission(results_df=trn_results,\n",
    "                team_name='example-team',\n",
    "                task_number=2,\n",
    "                results_path='./results/',\n",
    "                attempt=-1)"
   ],
   "metadata": {
    "collapsed": false,
    "pycharm": {
     "name": "#%%\n"
    }
   }
  },
  {
   "cell_type": "markdown",
   "source": [
    "## Evaluating a submission file on both tasks"
   ],
   "metadata": {
    "collapsed": false,
    "pycharm": {
     "name": "#%% md\n"
    }
   }
  },
  {
   "cell_type": "code",
   "execution_count": 5,
   "outputs": [
    {
     "name": "stdout",
     "output_type": "stream",
     "text": [
      "Train results for task 1 are:\n",
      "\tf_score: 0.2285\n",
      "\n",
      "Train results for task 2 are:\n",
      "\thierarchical_f: 0.7621\n",
      "\tpropensity_f: 0.7493\n",
      "\ticm: -1.9866\n"
     ]
    }
   ],
   "source": [
    "evaluator = Evaluator(team_name='example-team', results_path='./results/')\n",
    "\n",
    "# Gold Standard file must be in the same folder as the model output\n",
    "t1_scores = evaluator.evaluate_task1(attempt=-1, gs_filename='train.csv')\n",
    "print(f'Train results for task 1 are:')\n",
    "for k, v in t1_scores.items():\n",
    "    print(f'\\t{k}: {v:.4f}')\n",
    "\n",
    "t2_scores = evaluator.evaluate_task2(attempt=-1, gs_filename='train.csv')\n",
    "print(f'\\nTrain results for task 2 are:')\n",
    "for k, v in t2_scores.items():\n",
    "    print(f'\\t{k}: {v:.4f}')"
   ],
   "metadata": {
    "collapsed": false,
    "pycharm": {
     "name": "#%%\n"
    }
   }
  }
 ],
 "metadata": {
  "kernelspec": {
   "display_name": "Python 3",
   "language": "python",
   "name": "python3"
  },
  "language_info": {
   "codemirror_mode": {
    "name": "ipython",
    "version": 2
   },
   "file_extension": ".py",
   "mimetype": "text/x-python",
   "name": "python",
   "nbconvert_exporter": "python",
   "pygments_lexer": "ipython2",
   "version": "2.7.6"
  }
 },
 "nbformat": 4,
 "nbformat_minor": 0
}